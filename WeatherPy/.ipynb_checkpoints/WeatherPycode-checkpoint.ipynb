{
 "cells": [
  {
   "cell_type": "markdown",
   "metadata": {},
   "source": [
    "# WeatherPy\n",
    "----\n",
    "\n",
    "#### Note\n",
    "* Instructions have been included for each segment. You do not have to follow them exactly, but they are included to help you think through the steps."
   ]
  },
  {
   "cell_type": "code",
   "execution_count": 1,
   "metadata": {
    "scrolled": true
   },
   "outputs": [],
   "source": [
    "# Dependencies and Setup\n",
    "import matplotlib.pyplot as plt\n",
    "import pandas as pd\n",
    "import numpy as np\n",
    "from scipy import stats\n",
    "import requests\n",
    "import time\n",
    "import random\n",
    "import scipy.stats as st\n",
    "from scipy.stats import linregress\n",
    "\n",
    "# Import API key\n",
    "from api_keys import weather_api_key\n",
    "\n",
    "# Incorporated citipy to determine city based on latitude and longitude\n",
    "from citipy import citipy\n",
    "\n",
    "# Output File (CSV)\n",
    "output_data_file = \"output_data/cities.csv\"\n",
    "\n",
    "# Range of latitudes and longitudes\n",
    "lat_range = (-90, 90)\n",
    "lng_range = (-180, 180)"
   ]
  },
  {
   "cell_type": "markdown",
   "metadata": {},
   "source": [
    "## Generate Cities List"
   ]
  },
  {
   "cell_type": "code",
   "execution_count": 2,
   "metadata": {},
   "outputs": [
    {
     "data": {
      "text/plain": [
       "632"
      ]
     },
     "execution_count": 2,
     "metadata": {},
     "output_type": "execute_result"
    }
   ],
   "source": [
    "# List for holding lat_lngs and cities\n",
    "lat_lngs = []\n",
    "cities = []\n",
    "\n",
    "# Create a set of random lat and lng combinations\n",
    "lats = np.random.uniform(lat_range[0], lat_range[1], size=1500)\n",
    "lngs = np.random.uniform(lng_range[0], lng_range[1], size=1500)\n",
    "lat_lngs = zip(lats, lngs)\n",
    "\n",
    "# Identify nearest city for each lat, lng combination\n",
    "for lat_lng in lat_lngs:\n",
    "    city = citipy.nearest_city(lat_lng[0], lat_lng[1]).city_name\n",
    "    \n",
    "    # If the city is unique, then add it to a our cities list\n",
    "    if city not in cities:\n",
    "        cities.append(city)\n",
    "\n",
    "# Print the city count to confirm sufficient count\n",
    "len(cities)"
   ]
  },
  {
   "cell_type": "markdown",
   "metadata": {},
   "source": [
    "### Perform API Calls\n",
    "* Perform a weather check on each city using a series of successive API calls.\n",
    "* Include a print log of each city as it's being processed (with the city number and city name).\n"
   ]
  },
  {
   "cell_type": "code",
   "execution_count": null,
   "metadata": {},
   "outputs": [
    {
     "name": "stdout",
     "output_type": "stream",
     "text": [
      "<Response [401]>\n",
      "Processing Record 1 of Set 1 | puerto escondido\n",
      "Processing Record 2 of Set 1 | naze\n",
      "Processing Record 3 of Set 1 | barrow\n",
      "Processing Record 4 of Set 1 | rikitea\n",
      "Processing Record 5 of Set 1 | kangaatsiaq\n",
      "Processing Record 6 of Set 1 | east london\n",
      "Processing Record 7 of Set 1 | gwanda\n",
      "Processing Record 8 of Set 1 | ushuaia\n",
      "Processing Record 9 of Set 1 | new norfolk\n",
      "Processing Record 10 of Set 1 | hasaki\n",
      "Processing Record 11 of Set 1 | hithadhoo\n",
      "Processing Record 12 of Set 1 | saint-philippe\n",
      "Processing Record 13 of Set 1 | wanning\n",
      "City not found. Skipping...\n",
      "Processing Record 14 of Set 1 | mount gambier\n",
      "Processing Record 15 of Set 1 | taltal\n",
      "Processing Record 16 of Set 1 | kargil\n",
      "Processing Record 17 of Set 1 | mataura\n",
      "Processing Record 18 of Set 1 | port moresby\n",
      "Processing Record 19 of Set 1 | kruisfontein\n",
      "Processing Record 20 of Set 1 | muros\n",
      "Processing Record 21 of Set 1 | mangai\n",
      "Processing Record 22 of Set 1 | lakatoro\n",
      "Processing Record 23 of Set 1 | punta arenas\n",
      "Processing Record 24 of Set 1 | yellowknife\n",
      "Processing Record 25 of Set 1 | san andres\n",
      "Processing Record 26 of Set 1 | albany\n",
      "Processing Record 27 of Set 1 | noumea\n",
      "Processing Record 28 of Set 1 | otradnoye\n",
      "Processing Record 29 of Set 1 | nevelsk\n",
      "Processing Record 30 of Set 1 | qaanaaq\n",
      "Processing Record 31 of Set 1 | raton\n",
      "City not found. Skipping...\n",
      "Processing Record 32 of Set 1 | altay\n",
      "Processing Record 33 of Set 1 | kampene\n",
      "Processing Record 34 of Set 1 | camacha\n",
      "Processing Record 35 of Set 1 | kodiak\n",
      "Processing Record 36 of Set 1 | pevek\n",
      "Processing Record 37 of Set 1 | kaitangata\n",
      "Processing Record 38 of Set 1 | busselton\n",
      "Processing Record 39 of Set 1 | pokhara\n",
      "Processing Record 40 of Set 1 | ancud\n",
      "Processing Record 41 of Set 1 | port alfred\n",
      "Processing Record 42 of Set 1 | hilo\n",
      "Processing Record 43 of Set 1 | mokrous\n",
      "City not found. Skipping...\n",
      "Processing Record 44 of Set 1 | langsa\n",
      "Processing Record 45 of Set 1 | ribeira grande\n",
      "Processing Record 46 of Set 1 | constitucion\n",
      "Processing Record 47 of Set 1 | simoes\n",
      "Processing Record 48 of Set 1 | stillwater\n",
      "Processing Record 49 of Set 1 | airai\n",
      "Processing Record 1 of Set 2 | erenhot\n",
      "Processing Record 2 of Set 2 | mahon\n",
      "Processing Record 3 of Set 2 | port-gentil\n",
      "City not found. Skipping...\n",
      "Processing Record 4 of Set 2 | puerto guzman\n",
      "City not found. Skipping...\n",
      "City not found. Skipping...\n",
      "Processing Record 5 of Set 2 | whitecourt\n",
      "Processing Record 6 of Set 2 | hermanus\n",
      "Processing Record 7 of Set 2 | puerto ayora\n",
      "Processing Record 8 of Set 2 | jamestown\n",
      "Processing Record 9 of Set 2 | kapaa\n",
      "Processing Record 10 of Set 2 | puerto narino\n",
      "Processing Record 11 of Set 2 | morehead\n",
      "Processing Record 12 of Set 2 | pochutla\n",
      "Processing Record 13 of Set 2 | port blair\n",
      "Processing Record 14 of Set 2 | arraial do cabo\n",
      "Processing Record 15 of Set 2 | ponta do sol\n",
      "Processing Record 16 of Set 2 | zyryanka\n",
      "Processing Record 17 of Set 2 | thompson\n",
      "Processing Record 18 of Set 2 | santa cruz del sur\n",
      "Processing Record 19 of Set 2 | namwala\n",
      "Processing Record 20 of Set 2 | nagar\n",
      "Processing Record 21 of Set 2 | carutapera\n",
      "Processing Record 22 of Set 2 | san carlos de bariloche\n",
      "Processing Record 23 of Set 2 | huarmey\n",
      "Processing Record 24 of Set 2 | cape town\n",
      "Processing Record 25 of Set 2 | foca\n",
      "Processing Record 26 of Set 2 | saint-pierre\n",
      "Processing Record 27 of Set 2 | pozo colorado\n",
      "Processing Record 28 of Set 2 | karpinsk\n",
      "Processing Record 29 of Set 2 | necochea\n",
      "Processing Record 30 of Set 2 | peniche\n",
      "City not found. Skipping...\n",
      "Processing Record 31 of Set 2 | kitimat\n",
      "Processing Record 32 of Set 2 | ambulu\n",
      "Processing Record 33 of Set 2 | faanui\n",
      "Processing Record 34 of Set 2 | victoria\n",
      "City not found. Skipping...\n",
      "Processing Record 35 of Set 2 | tasiilaq\n",
      "Processing Record 36 of Set 2 | kutum\n",
      "Processing Record 37 of Set 2 | yafran\n",
      "Processing Record 38 of Set 2 | mizdah\n",
      "Processing Record 39 of Set 2 | cayenne\n",
      "City not found. Skipping...\n",
      "Processing Record 40 of Set 2 | ngunguru\n",
      "Processing Record 41 of Set 2 | kavieng\n",
      "Processing Record 42 of Set 2 | pacific grove\n",
      "Processing Record 43 of Set 2 | tuktoyaktuk\n",
      "City not found. Skipping...\n",
      "Processing Record 44 of Set 2 | islamkot\n",
      "Processing Record 45 of Set 2 | mukhen\n",
      "Processing Record 46 of Set 2 | teahupoo\n",
      "Processing Record 47 of Set 2 | srivardhan\n",
      "City not found. Skipping...\n",
      "Processing Record 48 of Set 2 | tashtyp\n",
      "Processing Record 49 of Set 2 | bethel\n",
      "Processing Record 1 of Set 3 | husavik\n",
      "Processing Record 2 of Set 3 | chuy\n",
      "Processing Record 3 of Set 3 | komsomolskiy\n",
      "Processing Record 4 of Set 3 | tiarei\n",
      "Processing Record 5 of Set 3 | chifeng\n",
      "Processing Record 6 of Set 3 | nanortalik\n",
      "Processing Record 7 of Set 3 | anse-bertrand\n",
      "Processing Record 8 of Set 3 | espanola\n",
      "Processing Record 9 of Set 3 | bredasdorp\n",
      "Processing Record 10 of Set 3 | raudeberg\n",
      "Processing Record 11 of Set 3 | chokurdakh\n",
      "Processing Record 12 of Set 3 | hualmay\n",
      "Processing Record 13 of Set 3 | lichinga\n",
      "Processing Record 14 of Set 3 | faya\n",
      "Processing Record 15 of Set 3 | madinat sittah uktubar\n",
      "Processing Record 16 of Set 3 | fairbanks\n",
      "Processing Record 17 of Set 3 | turukhansk\n",
      "Processing Record 18 of Set 3 | atuona\n",
      "Processing Record 19 of Set 3 | sitka\n",
      "Processing Record 20 of Set 3 | conceicao do araguaia\n",
      "Processing Record 21 of Set 3 | fukue\n",
      "Processing Record 22 of Set 3 | loikaw\n",
      "Processing Record 23 of Set 3 | salamiyah\n",
      "Processing Record 24 of Set 3 | mahebourg\n",
      "Processing Record 25 of Set 3 | talcahuano\n",
      "Processing Record 26 of Set 3 | codrington\n",
      "Processing Record 27 of Set 3 | tiksi\n",
      "Processing Record 28 of Set 3 | cidreira\n",
      "Processing Record 29 of Set 3 | sargur\n",
      "Processing Record 30 of Set 3 | dikson\n",
      "Processing Record 31 of Set 3 | kapasan\n",
      "Processing Record 32 of Set 3 | calabozo\n",
      "City not found. Skipping...\n",
      "Processing Record 33 of Set 3 | kakonko\n",
      "Processing Record 34 of Set 3 | smithers\n",
      "Processing Record 35 of Set 3 | rocha\n",
      "Processing Record 36 of Set 3 | nizwa\n",
      "Processing Record 37 of Set 3 | nikel\n",
      "Processing Record 38 of Set 3 | severo-kurilsk\n",
      "Processing Record 39 of Set 3 | hobart\n",
      "Processing Record 40 of Set 3 | guaymas\n",
      "Processing Record 41 of Set 3 | cherskiy\n",
      "Processing Record 42 of Set 3 | cap-aux-meules\n",
      "Processing Record 43 of Set 3 | bilma\n",
      "Processing Record 44 of Set 3 | la ronge\n",
      "Processing Record 45 of Set 3 | leningradskiy\n",
      "Processing Record 46 of Set 3 | bubaque\n",
      "Processing Record 47 of Set 3 | balsas\n",
      "Processing Record 48 of Set 3 | avarua\n",
      "Processing Record 49 of Set 3 | zhoucheng\n",
      "Processing Record 1 of Set 4 | lillehammer\n",
      "Processing Record 2 of Set 4 | mazara del vallo\n",
      "Processing Record 3 of Set 4 | ketchikan\n",
      "City not found. Skipping...\n",
      "Processing Record 4 of Set 4 | campbell river\n",
      "Processing Record 5 of Set 4 | gravdal\n",
      "Processing Record 6 of Set 4 | huangchuan\n",
      "Processing Record 7 of Set 4 | san patricio\n",
      "Processing Record 8 of Set 4 | takoradi\n",
      "Processing Record 9 of Set 4 | uvira\n",
      "Processing Record 10 of Set 4 | portland\n",
      "Processing Record 11 of Set 4 | tabou\n",
      "Processing Record 12 of Set 4 | georgetown\n",
      "Processing Record 13 of Set 4 | kahului\n",
      "Processing Record 14 of Set 4 | moree\n",
      "Processing Record 15 of Set 4 | ningxiang\n",
      "Processing Record 16 of Set 4 | saskylakh\n",
      "Processing Record 17 of Set 4 | butaritari\n",
      "Processing Record 18 of Set 4 | bridlington\n",
      "Processing Record 19 of Set 4 | hobyo\n",
      "City not found. Skipping...\n",
      "City not found. Skipping...\n",
      "Processing Record 20 of Set 4 | vaini\n",
      "Processing Record 21 of Set 4 | pueblo nuevo\n",
      "Processing Record 22 of Set 4 | tecoanapa\n",
      "Processing Record 23 of Set 4 | opuwo\n",
      "City not found. Skipping...\n",
      "Processing Record 24 of Set 4 | moroni\n",
      "Processing Record 25 of Set 4 | port lincoln\n",
      "Processing Record 26 of Set 4 | torbay\n",
      "Processing Record 27 of Set 4 | makaha\n",
      "Processing Record 28 of Set 4 | blagoyevo\n",
      "Processing Record 29 of Set 4 | cabedelo\n",
      "Processing Record 30 of Set 4 | nemuro\n",
      "Processing Record 31 of Set 4 | batagay\n",
      "City not found. Skipping...\n",
      "Processing Record 32 of Set 4 | grand-santi\n",
      "City not found. Skipping...\n",
      "Processing Record 33 of Set 4 | berbera\n",
      "City not found. Skipping...\n",
      "Processing Record 34 of Set 4 | upernavik\n",
      "Processing Record 35 of Set 4 | puerto del rosario\n",
      "Processing Record 36 of Set 4 | grand gaube\n",
      "Processing Record 37 of Set 4 | deputatskiy\n",
      "City not found. Skipping...\n",
      "Processing Record 38 of Set 4 | hofn\n"
     ]
    },
    {
     "name": "stdout",
     "output_type": "stream",
     "text": [
      "Processing Record 39 of Set 4 | umm kaddadah\n",
      "Processing Record 40 of Set 4 | gondar\n",
      "Processing Record 41 of Set 4 | kipini\n",
      "Processing Record 42 of Set 4 | nyaunglebin\n",
      "Processing Record 43 of Set 4 | innisfail\n",
      "Processing Record 44 of Set 4 | saint george\n",
      "Processing Record 45 of Set 4 | atar\n",
      "Processing Record 46 of Set 4 | warangal\n",
      "Processing Record 47 of Set 4 | vardo\n",
      "City not found. Skipping...\n",
      "Processing Record 48 of Set 4 | hay river\n",
      "Processing Record 49 of Set 4 | bengkulu\n",
      "Processing Record 1 of Set 5 | shieli\n",
      "Processing Record 2 of Set 5 | saint-augustin\n",
      "Processing Record 3 of Set 5 | gacko\n",
      "Processing Record 4 of Set 5 | quatre cocos\n",
      "Processing Record 5 of Set 5 | syamzha\n",
      "Processing Record 6 of Set 5 | narsaq\n",
      "Processing Record 7 of Set 5 | sterling\n",
      "City not found. Skipping...\n",
      "Processing Record 8 of Set 5 | sao filipe\n",
      "Processing Record 9 of Set 5 | alofi\n",
      "City not found. Skipping...\n",
      "Processing Record 10 of Set 5 | ostrovnoy\n",
      "Processing Record 11 of Set 5 | new glasgow\n",
      "Processing Record 12 of Set 5 | aswan\n",
      "Processing Record 13 of Set 5 | seydi\n",
      "Processing Record 14 of Set 5 | khatanga\n",
      "Processing Record 15 of Set 5 | camacupa\n",
      "Processing Record 16 of Set 5 | san cristobal\n",
      "Processing Record 17 of Set 5 | aripuana\n",
      "Processing Record 18 of Set 5 | calama\n",
      "Processing Record 19 of Set 5 | porto empedocle\n",
      "Processing Record 20 of Set 5 | berezovka\n",
      "Processing Record 21 of Set 5 | sindor\n",
      "Processing Record 22 of Set 5 | saravan\n",
      "Processing Record 23 of Set 5 | port elizabeth\n",
      "Processing Record 24 of Set 5 | vestmannaeyjar\n",
      "Processing Record 25 of Set 5 | colares\n",
      "Processing Record 26 of Set 5 | roma\n",
      "Processing Record 27 of Set 5 | namibe\n",
      "Processing Record 28 of Set 5 | altamira\n",
      "Processing Record 29 of Set 5 | savannakhet\n",
      "Processing Record 30 of Set 5 | dalvik\n",
      "Processing Record 31 of Set 5 | gorontalo\n",
      "Processing Record 32 of Set 5 | kurilsk\n",
      "City not found. Skipping...\n",
      "Processing Record 33 of Set 5 | sur\n",
      "Processing Record 34 of Set 5 | bonavista\n",
      "Processing Record 35 of Set 5 | salalah\n",
      "Processing Record 36 of Set 5 | nyurba\n",
      "Processing Record 37 of Set 5 | dogondoutchi\n",
      "Processing Record 38 of Set 5 | nadym\n",
      "Processing Record 39 of Set 5 | guerrero negro\n",
      "Processing Record 40 of Set 5 | pemba\n",
      "Processing Record 41 of Set 5 | coihaique\n",
      "Processing Record 42 of Set 5 | moerai\n",
      "Processing Record 43 of Set 5 | kljuc\n",
      "Processing Record 44 of Set 5 | mezen\n",
      "Processing Record 45 of Set 5 | nome\n",
      "Processing Record 46 of Set 5 | broken hill\n",
      "Processing Record 47 of Set 5 | thunder bay\n",
      "Processing Record 48 of Set 5 | kalawit\n",
      "Processing Record 49 of Set 5 | lompoc\n",
      "Processing Record 1 of Set 6 | richards bay\n",
      "Processing Record 2 of Set 6 | sibu\n",
      "Processing Record 3 of Set 6 | castro\n",
      "Processing Record 4 of Set 6 | solnechnyy\n",
      "Processing Record 5 of Set 6 | bluff\n",
      "Processing Record 6 of Set 6 | gorlitz\n",
      "Processing Record 7 of Set 6 | tarime\n",
      "Processing Record 8 of Set 6 | mayo\n",
      "Processing Record 9 of Set 6 | laguna\n",
      "Processing Record 10 of Set 6 | walvis bay\n",
      "Processing Record 11 of Set 6 | isiro\n",
      "Processing Record 12 of Set 6 | tesanjka\n",
      "Processing Record 13 of Set 6 | tura\n",
      "Processing Record 14 of Set 6 | te anau\n",
      "Processing Record 15 of Set 6 | nouakchott\n",
      "Processing Record 16 of Set 6 | pastos bons\n",
      "Processing Record 17 of Set 6 | baiao\n",
      "Processing Record 18 of Set 6 | carauari\n",
      "Processing Record 19 of Set 6 | odweyne\n",
      "Processing Record 20 of Set 6 | boralday\n",
      "Processing Record 21 of Set 6 | ponta delgada\n",
      "Processing Record 22 of Set 6 | sioux lookout\n",
      "Processing Record 23 of Set 6 | bangangte\n",
      "Processing Record 24 of Set 6 | lebu\n",
      "Processing Record 25 of Set 6 | burgeo\n",
      "Processing Record 26 of Set 6 | dzaoudzi\n",
      "Processing Record 27 of Set 6 | avallon\n",
      "City not found. Skipping...\n",
      "Processing Record 28 of Set 6 | krynychky\n",
      "Processing Record 29 of Set 6 | lagoa\n",
      "Processing Record 30 of Set 6 | puerto penasco\n",
      "Processing Record 31 of Set 6 | asau\n",
      "Processing Record 32 of Set 6 | boajibu\n",
      "Processing Record 33 of Set 6 | yumen\n",
      "Processing Record 34 of Set 6 | melo\n",
      "Processing Record 35 of Set 6 | anchorage\n",
      "Processing Record 36 of Set 6 | veraval\n",
      "Processing Record 37 of Set 6 | simao\n",
      "Processing Record 38 of Set 6 | kodinsk\n",
      "Processing Record 39 of Set 6 | impfondo\n",
      "Processing Record 40 of Set 6 | launceston\n",
      "Processing Record 41 of Set 6 | springbok\n",
      "Processing Record 42 of Set 6 | college\n",
      "Processing Record 43 of Set 6 | pangnirtung\n",
      "Processing Record 44 of Set 6 | saint-michel-des-saints\n",
      "Processing Record 45 of Set 6 | kampot\n",
      "Processing Record 46 of Set 6 | provideniya\n",
      "Processing Record 47 of Set 6 | vao\n",
      "Processing Record 48 of Set 6 | steger\n",
      "Processing Record 49 of Set 6 | chimbote\n",
      "Processing Record 1 of Set 7 | sovetskaya gavan\n",
      "Processing Record 2 of Set 7 | carnarvon\n",
      "Processing Record 3 of Set 7 | santo antonio do ica\n",
      "Processing Record 4 of Set 7 | nelson bay\n",
      "Processing Record 5 of Set 7 | nuuk\n",
      "Processing Record 6 of Set 7 | marfino\n",
      "Processing Record 7 of Set 7 | makakilo city\n",
      "Processing Record 8 of Set 7 | katsuura\n",
      "Processing Record 9 of Set 7 | sumbe\n",
      "Processing Record 10 of Set 7 | mar del plata\n",
      "City not found. Skipping...\n",
      "Processing Record 11 of Set 7 | esperance\n",
      "Processing Record 12 of Set 7 | mabaruma\n",
      "Processing Record 13 of Set 7 | isehara\n",
      "Processing Record 14 of Set 7 | bambous virieux\n",
      "Processing Record 15 of Set 7 | fort nelson\n",
      "Processing Record 16 of Set 7 | iqaluit\n",
      "Processing Record 17 of Set 7 | mount isa\n",
      "City not found. Skipping...\n",
      "Processing Record 18 of Set 7 | soe\n",
      "Processing Record 19 of Set 7 | taoudenni\n",
      "Processing Record 20 of Set 7 | petropavlovsk-kamchatskiy\n",
      "Processing Record 21 of Set 7 | nouadhibou\n",
      "Processing Record 22 of Set 7 | lipin bor\n",
      "Processing Record 23 of Set 7 | nikolskoye\n",
      "Processing Record 24 of Set 7 | pierre\n",
      "Processing Record 25 of Set 7 | santa maria\n",
      "City not found. Skipping...\n",
      "City not found. Skipping...\n",
      "Processing Record 26 of Set 7 | meulaboh\n",
      "Processing Record 27 of Set 7 | senador pompeu\n",
      "Processing Record 28 of Set 7 | zhigansk\n",
      "Processing Record 29 of Set 7 | luderitz\n",
      "Processing Record 30 of Set 7 | arlit\n",
      "Processing Record 31 of Set 7 | carballo\n",
      "Processing Record 32 of Set 7 | kalmunai\n",
      "Processing Record 33 of Set 7 | zeya\n",
      "Processing Record 34 of Set 7 | leshukonskoye\n",
      "Processing Record 35 of Set 7 | bodden town\n",
      "Processing Record 36 of Set 7 | enshi\n",
      "Processing Record 37 of Set 7 | poum\n",
      "Processing Record 38 of Set 7 | yuanping\n",
      "Processing Record 39 of Set 7 | vila franca do campo\n",
      "Processing Record 40 of Set 7 | xining\n",
      "Processing Record 41 of Set 7 | asyut\n",
      "Processing Record 42 of Set 7 | todos santos\n",
      "Processing Record 43 of Set 7 | hirara\n",
      "Processing Record 44 of Set 7 | ujjain\n",
      "Processing Record 45 of Set 7 | nalut\n",
      "Processing Record 46 of Set 7 | haines junction\n",
      "Processing Record 47 of Set 7 | bud\n",
      "Processing Record 48 of Set 7 | chapais\n",
      "Processing Record 49 of Set 7 | mirnyy\n",
      "Processing Record 1 of Set 8 | iskateley\n",
      "Processing Record 2 of Set 8 | broome\n"
     ]
    }
   ],
   "source": [
    "# Save config information.\n",
    "url = \"http://api.openweathermap.org/data/2.5/weather?\"\n",
    "units = \"metric\"\n",
    "\n",
    "# Build partial query URL\n",
    "query_url = f\"{url}appid={weather_api_key}&units={units}&q=\"\n",
    "\n",
    "print(requests.get(url))\n",
    "# set lists for the dataframe\n",
    "city_two = []\n",
    "cloudinesses = []\n",
    "dates = []\n",
    "humidities = []\n",
    "lats = []\n",
    "lngs = []\n",
    "max_temps = []\n",
    "wind_speeds = []\n",
    "countries = []\n",
    "\n",
    "# set initial count quantities for organization\n",
    "count_one = 0\n",
    "set_one = 1\n",
    "\n",
    "# loops for creating dataframe columns\n",
    "for city in cities:\n",
    "    try:\n",
    "        #response = requests.get(url).json()\n",
    "        response = requests.get(query_url + city).json()\n",
    "        cloudinesses.append(response['clouds']['all'])\n",
    "        countries.append(response['sys']['country'])\n",
    "        dates.append(response['dt'])\n",
    "        humidities.append(response['main']['humidity'])\n",
    "        lats.append(response['coord']['lat'])\n",
    "        lngs.append(response['coord']['lon'])\n",
    "        max_temps.append(response['main']['temp_max'])\n",
    "        wind_speeds.append(response['wind']['speed'])\n",
    "        if count_one > 48:\n",
    "            count_one = 1\n",
    "            set_one += 1\n",
    "            city_two.append(city)\n",
    "        else:\n",
    "            count_one += 1\n",
    "            city_two.append(city)\n",
    "        print(f\"Processing Record {count_one} of Set {set_one} | {city}\")\n",
    "    except Exception:\n",
    "        print(\"City not found. Skipping...\")\n",
    "print(\"------------------------------\\nData Retrieval Complete\\n------------------------------\")   "
   ]
  },
  {
   "cell_type": "markdown",
   "metadata": {},
   "source": [
    "### Convert Raw Data to DataFrame\n",
    "* Export the city data into a .csv.\n",
    "* Display the DataFrame"
   ]
  },
  {
   "cell_type": "code",
   "execution_count": null,
   "metadata": {},
   "outputs": [],
   "source": [
    "# create a dictionary for establishing dataframe\n",
    "weather_dict = {\n",
    "    \"City\":city_two,\n",
    "    \"Cloudiness\":cloudinesses,\n",
    "    \"Country\":countries,\n",
    "    \"Date\":dates,\n",
    "    \"Humidity\":humidities,\n",
    "    \"Lat\":lats,\n",
    "    \"Lng\":lngs,\n",
    "    \"Max Temp\":max_temps,\n",
    "    \"Wind Speed\":wind_speeds\n",
    "}\n",
    "# establish dataframe\n",
    "weather_dataframe = pd.DataFrame(weather_dict)"
   ]
  },
  {
   "cell_type": "code",
   "execution_count": null,
   "metadata": {},
   "outputs": [],
   "source": [
    "# show the top of the dataframe\n",
    "weather_dataframe.head()"
   ]
  },
  {
   "cell_type": "code",
   "execution_count": null,
   "metadata": {},
   "outputs": [],
   "source": [
    "# output data to csv\n",
    "weather_dataframe.to_csv('output_data_file.csv')"
   ]
  },
  {
   "cell_type": "markdown",
   "metadata": {},
   "source": [
    "## Inspect the data and remove the cities where the humidity > 100%.\n",
    "----\n",
    "Skip this step if there are no cities that have humidity > 100%. "
   ]
  },
  {
   "cell_type": "code",
   "execution_count": null,
   "metadata": {},
   "outputs": [],
   "source": [
    "#  Get the indices of cities that have humidity over 100%.\n",
    "weather_dataframe.describe()"
   ]
  },
  {
   "cell_type": "code",
   "execution_count": null,
   "metadata": {},
   "outputs": [],
   "source": [
    "# Make a new DataFrame equal to the city data to drop all humidity outliers by index.\n",
    "# Passing \"inplace=False\" will make a copy of the city_data DataFrame, which we call \"clean_city_data\".\n"
   ]
  },
  {
   "cell_type": "markdown",
   "metadata": {},
   "source": [
    "## Plotting the Data\n",
    "* Use proper labelling of the plots using plot titles (including date of analysis) and axes labels.\n",
    "* Save the plotted figures as .pngs."
   ]
  },
  {
   "cell_type": "markdown",
   "metadata": {},
   "source": [
    "## Latitude vs. Temperature Plot"
   ]
  },
  {
   "cell_type": "code",
   "execution_count": null,
   "metadata": {
    "scrolled": false
   },
   "outputs": [],
   "source": [
    "plt.scatter(weather_dataframe['Lat'],weather_dataframe['Max Temp'],edgecolors=\"black\",facecolors=\"skyblue\")\n",
    "plt.title(\"City Latitude vs. Max Temperature \")\n",
    "plt.xlabel(\"Latitude\")\n",
    "plt.ylabel(\"Max Temperature (F)\")\n",
    "plt.grid (True)\n",
    "plt.savefig('fig1.png')\n",
    "plt.show()\n"
   ]
  },
  {
   "cell_type": "markdown",
   "metadata": {},
   "source": [
    "From the above plot, it is clear that the temperature for the cities closer to the the equator is higher and it gradually decrease in the cities located away from the equator.  "
   ]
  },
  {
   "cell_type": "markdown",
   "metadata": {},
   "source": [
    "## Latitude vs. Humidity Plot"
   ]
  },
  {
   "cell_type": "code",
   "execution_count": null,
   "metadata": {},
   "outputs": [],
   "source": [
    "plt.scatter(weather_dataframe['Lat'],weather_dataframe['Humidity'],edgecolors=\"black\",facecolors=\"skyblue\")\n",
    "plt.title(\"City Latitude vs. Humidity\")\n",
    "plt.xlabel(\"Latitude\")\n",
    "plt.ylabel(\"Humidity\")\n",
    "plt.grid (True)\n",
    "plt.savefig('fig2.png')\n",
    "plt.show()"
   ]
  },
  {
   "cell_type": "markdown",
   "metadata": {},
   "source": [
    "The finding from the analysis there is no relationship between Humidity, and latitude but there is a majority of cities that has high humidity in the Northern hemisphere."
   ]
  },
  {
   "cell_type": "markdown",
   "metadata": {},
   "source": [
    "## Latitude vs. Cloudiness Plot"
   ]
  },
  {
   "cell_type": "code",
   "execution_count": null,
   "metadata": {},
   "outputs": [],
   "source": [
    "plt.scatter(weather_dataframe['Lat'],weather_dataframe['Cloudiness'],edgecolors=\"black\",facecolors=\"skyblue\")\n",
    "plt.title(\"City Latitude vs. Cloudiness\")\n",
    "plt.xlabel(\"Latitude\")\n",
    "plt.ylabel(\"Cloudiness\")\n",
    "plt.grid (True)\n",
    "plt.savefig('fig3.png')\n",
    "plt.show()"
   ]
  },
  {
   "cell_type": "markdown",
   "metadata": {},
   "source": [
    "The finding from the analysis there is no relationship between Cloudiness, and latitude but there is a majority of cities that has high cloudiness in the Northern hemisphere."
   ]
  },
  {
   "cell_type": "markdown",
   "metadata": {},
   "source": [
    "## Latitude vs. Wind Speed Plot"
   ]
  },
  {
   "cell_type": "code",
   "execution_count": null,
   "metadata": {},
   "outputs": [],
   "source": [
    "plt.scatter(weather_dataframe['Lat'],weather_dataframe['Wind Speed'],edgecolors=\"black\",facecolors=\"skyblue\")\n",
    "plt.title(\"City Latitude vs. Windspeed\")\n",
    "plt.xlabel(\"Latitude\")\n",
    "plt.ylabel(\"Windspeed\")\n",
    "plt.grid (True)\n",
    "plt.savefig('fig4.png')\n",
    "plt.show()"
   ]
  },
  {
   "cell_type": "markdown",
   "metadata": {},
   "source": [
    "The finding from the analysis there is no relationship between wind speed (mph), and latitude but overall most of the cities has windspeed in the range 0-6 mph."
   ]
  },
  {
   "cell_type": "markdown",
   "metadata": {},
   "source": [
    "## Linear Regression"
   ]
  },
  {
   "cell_type": "code",
   "execution_count": null,
   "metadata": {},
   "outputs": [],
   "source": [
    "# Create a Scatter Plot for temperature vs latitude\n",
    "northern_hemisphere = weather_dataframe.loc[weather_dataframe['Lat'] >=0]\n",
    "southern_hemisphere = weather_dataframe.loc[weather_dataframe['Lat'] <0]\n",
    "\n",
    "\n"
   ]
  },
  {
   "cell_type": "markdown",
   "metadata": {},
   "source": [
    "###  Max Temp vs. Latitude Linear Regression"
   ]
  },
  {
   "cell_type": "markdown",
   "metadata": {},
   "source": [
    "####  Northern Hemisphere - Max Temp vs. Latitude Linear Regression"
   ]
  },
  {
   "cell_type": "code",
   "execution_count": null,
   "metadata": {},
   "outputs": [],
   "source": [
    "\n",
    "x_values=northern_hemisphere['Lat']\n",
    "y_values = northern_hemisphere['Max Temp']\n",
    "\n",
    "plt.scatter(x_values,y_values)\n",
    "\n",
    "plt.show()\n",
    "# Perform a linear regression on temperature vs. latitude\n",
    "(slope, intercept, rvalue, pvalue, stderr) = stats.linregress(x_values, y_values)\n",
    "\n",
    "# Get regression values\n",
    "regress_values = x_values * slope + intercept\n",
    "\n"
   ]
  },
  {
   "cell_type": "code",
   "execution_count": null,
   "metadata": {},
   "outputs": [],
   "source": [
    "# Create line equation string\n",
    "line_eq = \"y = \" + str(round(slope,2)) + \"x +\" + str(round(intercept,2))\n",
    "print(line_eq)"
   ]
  },
  {
   "cell_type": "code",
   "execution_count": null,
   "metadata": {},
   "outputs": [],
   "source": [
    "# Create Plot\n",
    "plt.scatter(x_values,y_values)\n",
    "plt.plot(x_values,regress_values,\"r-\")\n",
    "\n",
    "# Label plot and annotate the line equation\n",
    "plt.ylabel('Temperature')\n",
    "plt.xlabel('Latitude')\n",
    "plt.title(\"Northern Hemisphere - Max Temp vs. Latitude Linear Regression\")\n",
    "plt.annotate(line_eq,(20,15),fontsize=15,color=\"red\")\n",
    "plt.savefig('fig5.png')\n",
    "correlation = st.pearsonr(x_values,y_values)\n",
    "print(f\"The correlation between both factors is {round(correlation[0],2)}\")\n",
    "# Print r value\n",
    "print(f\"The r2value is: {rvalue**2}\")\n",
    "\n",
    "# Show plot\n",
    "plt.show()\n"
   ]
  },
  {
   "cell_type": "markdown",
   "metadata": {},
   "source": [
    "It has been inferred that in Northern Hemisphere there is a negative correlation for Temperature and Latitude. \n",
    "There is a good amount of variance identified according to the r2value.\n",
    "\n"
   ]
  },
  {
   "cell_type": "markdown",
   "metadata": {},
   "source": [
    "####  Southern Hemisphere - Max Temp vs. Latitude Linear Regression"
   ]
  },
  {
   "cell_type": "code",
   "execution_count": null,
   "metadata": {},
   "outputs": [],
   "source": [
    "x_values=southern_hemisphere['Lat']\n",
    "y_values = southern_hemisphere['Max Temp']\n",
    "\n",
    "plt.scatter(x_values,y_values)\n",
    "\n",
    "plt.ylabel('Temperature')\n",
    "plt.xlabel('Latitude')\n",
    "plt.show()\n",
    "# Perform a linear regression on temperature vs. latitude\n",
    "(slope, intercept, rvalue, pvalue, stderr) = stats.linregress(x_values, y_values)\n",
    "\n",
    "# Get regression values\n",
    "regress_values = x_values * slope + intercept"
   ]
  },
  {
   "cell_type": "code",
   "execution_count": null,
   "metadata": {},
   "outputs": [],
   "source": [
    "# Create line equation string\n",
    "line_eq = \"y = \" + str(round(slope,2)) + \"x +\" + str(round(intercept,2))\n",
    "print(line_eq)"
   ]
  },
  {
   "cell_type": "code",
   "execution_count": null,
   "metadata": {},
   "outputs": [],
   "source": [
    "# Create Plot\n",
    "plt.scatter(x_values,y_values)\n",
    "plt.plot(x_values,regress_values,\"r-\")\n",
    "\n",
    "# Label plot and annotate the line equation\n",
    "plt.xlabel('Latitude')\n",
    "plt.ylabel('Temperature')\n",
    "plt.title(\"Southern Hemisphere - Max Temp vs. Latitude Linear Regression\")\n",
    "plt.annotate(line_eq,(-40,15),fontsize=15,color=\"red\")\n",
    "plt.savefig('fig6.png')\n",
    "\n",
    "correlation = st.pearsonr(x_values,y_values)\n",
    "print(f\"The correlation between both factors is {round(correlation[0],2)}\")\n",
    "# Print r value\n",
    "print(f\"The r2value is: {rvalue**2}\")\n",
    "\n",
    "# Show plot\n",
    "plt.show()\n"
   ]
  },
  {
   "cell_type": "markdown",
   "metadata": {},
   "source": [
    "\n",
    "It has been inferred that in Southern Hemisphere there is a negative correlation for Temperature and Latitude. \n",
    "There is a good amount of variance identified according to the r2value.\n",
    "\n",
    "So, cities closer to the Equator are hotter in both Northern and Southern hemispheres.\n"
   ]
  },
  {
   "cell_type": "markdown",
   "metadata": {},
   "source": [
    "### Humidity (%) vs. Latitude Linear Regression"
   ]
  },
  {
   "cell_type": "markdown",
   "metadata": {},
   "source": [
    "####  Northern Hemisphere - Humidity (%) vs. Latitude Linear Regression"
   ]
  },
  {
   "cell_type": "code",
   "execution_count": null,
   "metadata": {},
   "outputs": [],
   "source": [
    "x_values=northern_hemisphere['Lat']\n",
    "y_values = northern_hemisphere['Humidity']\n",
    "\n",
    "plt.scatter(x_values,y_values)\n",
    "\n",
    "plt.ylabel('Humidity')\n",
    "plt.xlabel('Latitude')\n",
    "plt.show()\n",
    "# Perform a linear regression on temperature vs. latitude\n",
    "(slope, intercept, rvalue, pvalue, stderr) = stats.linregress(x_values, y_values)\n",
    "\n",
    "# Get regression values\n",
    "regress_values = x_values * slope + intercept"
   ]
  },
  {
   "cell_type": "code",
   "execution_count": null,
   "metadata": {},
   "outputs": [],
   "source": [
    "# Create line equation string\n",
    "line_eq = \"y = \" + str(round(slope,2)) + \"x +\" + str(round(intercept,2))\n",
    "print(line_eq)"
   ]
  },
  {
   "cell_type": "code",
   "execution_count": null,
   "metadata": {},
   "outputs": [],
   "source": [
    "# Create Plot\n",
    "plt.scatter(x_values,y_values)\n",
    "plt.plot(x_values,regress_values,\"r-\")\n",
    "\n",
    "# Label plot and annotate the line equation\n",
    "plt.xlabel('Latitude')\n",
    "plt.ylabel('Humidity')\n",
    "plt.title(\"Northern Hemisphere - Humidity (%) vs. Latitude Linear Regression\")\n",
    "plt.annotate(line_eq,(20,15),fontsize=15,color=\"red\")\n",
    "plt.savefig('fig7.png')\n",
    "correlation = st.pearsonr(x_values,y_values)\n",
    "print(f\"The correlation between both factors is {round(correlation[0],2)}\")\n",
    "# Print r value\n",
    "print(f\"The r2value is: {rvalue**2}\")\n",
    "\n",
    "# Show plot\n",
    "plt.show()\n"
   ]
  },
  {
   "cell_type": "markdown",
   "metadata": {},
   "source": [
    "It has been inferred that in Northern Hemisphere  there is a weak positive correlation for  Humidity (%) vs. Latitude. \n",
    "There is Little to no variance identified according to the r2value.\n"
   ]
  },
  {
   "cell_type": "markdown",
   "metadata": {},
   "source": [
    "####  Southern Hemisphere - Humidity (%) vs. Latitude Linear Regression"
   ]
  },
  {
   "cell_type": "code",
   "execution_count": null,
   "metadata": {},
   "outputs": [],
   "source": [
    "x_values=southern_hemisphere['Lat']\n",
    "y_values = southern_hemisphere['Humidity']\n",
    "\n",
    "plt.scatter(x_values,y_values)\n",
    "plt.xlabel('Latitude')\n",
    "plt.ylabel('Humidity')\n",
    "\n",
    "plt.show()\n",
    "# Perform a linear regression on temperature vs. latitude\n",
    "(slope, intercept, rvalue, pvalue, stderr) = stats.linregress(x_values, y_values)\n",
    "\n",
    "# Get regression values\n",
    "regress_values = x_values * slope + intercept"
   ]
  },
  {
   "cell_type": "code",
   "execution_count": null,
   "metadata": {
    "scrolled": true
   },
   "outputs": [],
   "source": [
    "# Create line equation string\n",
    "line_eq = \"y = \" + str(round(slope,2)) + \"x +\" + str(round(intercept,2))\n",
    "print(line_eq)"
   ]
  },
  {
   "cell_type": "code",
   "execution_count": null,
   "metadata": {},
   "outputs": [],
   "source": [
    "# Create Plot\n",
    "plt.scatter(x_values,y_values)\n",
    "plt.plot(x_values,regress_values,\"r-\")\n",
    "\n",
    "# Label plot and annotate the line equation\n",
    "plt.ylabel('Humidity')\n",
    "plt.xlabel('Latitude')\n",
    "plt.title(\"Southern Hemisphere - Humidity (%) vs. Latitude Linear Regression\")\n",
    "plt.annotate(line_eq,(-50,35),fontsize=15,color=\"red\")\n",
    "plt.savefig('fig8.png')\n",
    "correlation = st.pearsonr(x_values,y_values)\n",
    "print(f\"The correlation between both factors is {round(correlation[0],2)}\")\n",
    "# Print r value\n",
    "print(f\"The r2value is: {rvalue**2}\")\n",
    "\n",
    "# Show plot\n",
    "plt.show()\n"
   ]
  },
  {
   "cell_type": "markdown",
   "metadata": {},
   "source": [
    "It has been inferred that in Southern Hemisphere  there is a weak negative coorelation for  Humidity (%) vs. Latitude. \n",
    "There is Little to no variance identified according to the r2value.\n",
    "\n",
    " The correlation between humidity and latitude for both northern and southern hemisphere cities is very weak. Therefore, We can infer that humidity can be fairly distributed in both northern and southern hemisphere cities regardless of their distance from the equator."
   ]
  },
  {
   "cell_type": "markdown",
   "metadata": {},
   "source": [
    "### Cloudiness (%) vs. Latitude Linear Regression"
   ]
  },
  {
   "cell_type": "markdown",
   "metadata": {},
   "source": [
    "####  Northern Hemisphere - Cloudiness (%) vs. Latitude Linear Regression"
   ]
  },
  {
   "cell_type": "code",
   "execution_count": null,
   "metadata": {},
   "outputs": [],
   "source": [
    "x_values=northern_hemisphere['Lat']\n",
    "y_values = northern_hemisphere['Cloudiness']\n",
    "\n",
    "plt.scatter(x_values,y_values)\n",
    "plt.xlabel('Latitude')\n",
    "plt.ylabel('Cloudiness')\n",
    "\n",
    "plt.show()\n",
    "# Perform a linear regression on temperature vs. latitude\n",
    "(slope, intercept, rvalue, pvalue, stderr) = stats.linregress(x_values, y_values)\n",
    "\n",
    "# Get regression values\n",
    "regress_values = x_values * slope + intercept"
   ]
  },
  {
   "cell_type": "code",
   "execution_count": null,
   "metadata": {},
   "outputs": [],
   "source": [
    "# Create line equation string\n",
    "line_eq = \"y = \" + str(round(slope,2)) + \"x +\" + str(round(intercept,2))\n",
    "print(line_eq)"
   ]
  },
  {
   "cell_type": "code",
   "execution_count": null,
   "metadata": {},
   "outputs": [],
   "source": [
    "\n",
    "# Create Plot\n",
    "plt.scatter(x_values,y_values)\n",
    "plt.plot(x_values,regress_values,\"r-\")\n",
    "\n",
    "# Label plot and annotate the line equation\n",
    "plt.xlabel('Latitude')\n",
    "plt.ylabel('Cloudiness')\n",
    "plt.title(\"Northern Hemisphere - Cloudiness (%) vs. Latitude Linear Regression\")\n",
    "plt.annotate(line_eq,(20,40),fontsize=15,color=\"red\")\n",
    "plt.savefig('fig9.png')\n",
    "correlation = st.pearsonr(x_values,y_values)\n",
    "print(f\"The correlation between both factors is {round(correlation[0],2)}\")\n",
    "# Print r value\n",
    "print(f\"The r2value is: {rvalue**2}\")\n",
    "\n",
    "# Show plot\n",
    "plt.show()\n"
   ]
  },
  {
   "cell_type": "markdown",
   "metadata": {},
   "source": [
    "It has been inferred that in Northern Hemisphere  there is a weak negative correlation for  Cloudiness vs. Latitude. \n",
    "There is Little to no variance identified according to the r2value."
   ]
  },
  {
   "cell_type": "markdown",
   "metadata": {},
   "source": [
    "####  Southern Hemisphere - Cloudiness (%) vs. Latitude Linear Regression"
   ]
  },
  {
   "cell_type": "code",
   "execution_count": null,
   "metadata": {
    "scrolled": true
   },
   "outputs": [],
   "source": [
    "x_values=southern_hemisphere['Lat']\n",
    "y_values = southern_hemisphere['Cloudiness']\n",
    "\n",
    "plt.scatter(x_values,y_values)\n",
    "\n",
    "plt.ylabel('Cloudiness')\n",
    "plt.xlabel('Latitude')\n",
    "\n",
    "# Perform a linear regression on temperature vs. latitude\n",
    "(slope, intercept, rvalue, pvalue, stderr) = stats.linregress(x_values, y_values)\n",
    "\n",
    "# Get regression values\n",
    "regress_values = x_values * slope + intercept\n"
   ]
  },
  {
   "cell_type": "code",
   "execution_count": null,
   "metadata": {},
   "outputs": [],
   "source": [
    "# Create line equation string\n",
    "line_eq = \"y = \" + str(round(slope,2)) + \"x +\" + str(round(intercept,2))\n",
    "print(line_eq)"
   ]
  },
  {
   "cell_type": "code",
   "execution_count": null,
   "metadata": {},
   "outputs": [],
   "source": [
    "# Create Plot\n",
    "plt.scatter(x_values,y_values)\n",
    "plt.plot(x_values,regress_values,\"r-\")\n",
    "\n",
    "# Label plot and annotate the line equation\n",
    "plt.xlabel('Latitude')\n",
    "plt.ylabel('Cloudiness')\n",
    "plt.title(\"Southern Hemisphere - Cloudiness (%) vs. Latitude Linear Regression\")\n",
    "plt.annotate(line_eq,(-30,65),fontsize=15,color=\"red\")\n",
    "plt.savefig('fig10.png')\n",
    "correlation = st.pearsonr(x_values,y_values)\n",
    "print(f\"The correlation between both factors is {round(correlation[0],2)}\")\n",
    "# Print r value\n",
    "print(f\"The r2value is: {rvalue**2}\")\n",
    "\n",
    "# Show plot\n",
    "plt.show()\n"
   ]
  },
  {
   "cell_type": "markdown",
   "metadata": {},
   "source": [
    "It has been inferred that in Southern Hemisphere  there is a weak positive correlation for  Cloudiness vs. Latitude. \n",
    "There is Little to no variance identified according to the r2value.\n",
    "\n",
    " The correlation between cloudiness and latitude is weak in both Northern and Southern hemispheres. Therefore, We can infer that cloudiness can be fairly distributed in both northern and southern hemisphere cities regardless of their distance from the equator."
   ]
  },
  {
   "cell_type": "markdown",
   "metadata": {},
   "source": [
    "### Wind Speed (m/s) vs. Latitude Linear Regression"
   ]
  },
  {
   "cell_type": "markdown",
   "metadata": {},
   "source": [
    "####  Northern Hemisphere - Wind Speed (mph) vs. Latitude Linear Regression"
   ]
  },
  {
   "cell_type": "code",
   "execution_count": null,
   "metadata": {},
   "outputs": [],
   "source": [
    "x_values=northern_hemisphere['Lat']\n",
    "y_values = northern_hemisphere['Wind Speed']\n",
    "\n",
    "plt.scatter(x_values,y_values)\n",
    "\n",
    "plt.xlabel('Latitude')\n",
    "plt.ylabel('Wind Speed')\n",
    "plt.show()\n",
    "# Perform a linear regression on temperature vs. latitude\n",
    "(slope, intercept, rvalue, pvalue, stderr) = stats.linregress(x_values, y_values)\n",
    "\n",
    "# Get regression values\n",
    "regress_values = x_values * slope + intercept"
   ]
  },
  {
   "cell_type": "code",
   "execution_count": null,
   "metadata": {},
   "outputs": [],
   "source": [
    "# Create line equation string\n",
    "line_eq = \"y = \" + str(round(slope,2)) + \"x +\" + str(round(intercept,2))\n",
    "print(line_eq)"
   ]
  },
  {
   "cell_type": "code",
   "execution_count": null,
   "metadata": {},
   "outputs": [],
   "source": [
    "# Create Plot\n",
    "plt.scatter(x_values,y_values)\n",
    "plt.plot(x_values,regress_values,\"r-\")\n",
    "\n",
    "# Label plot and annotate the line equation\n",
    "plt.xlabel('Latitude')\n",
    "plt.ylabel('Wind Speed')\n",
    "plt.title(\"Northern Hemisphere - Wind Speed (mph) vs. Latitude Linear Regression\")\n",
    "plt.annotate(line_eq,(30,8),fontsize=15,color=\"red\")\n",
    "plt.savefig('fig11.png')\n",
    "correlation = st.pearsonr(x_values,y_values)\n",
    "print(f\"The correlation between both factors is {round(correlation[0],2)}\")\n",
    "# Print r value\n",
    "print(f\"The r2value is: {rvalue**2}\")\n",
    "\n",
    "# Show plot\n",
    "plt.show()\n"
   ]
  },
  {
   "cell_type": "markdown",
   "metadata": {},
   "source": [
    "It has been inferred that in Northern Hemisphere  there is a weak positive correlation for  Windspeed vs. Latitude. \n",
    "There is Little to no variance identified according to the r2value."
   ]
  },
  {
   "cell_type": "markdown",
   "metadata": {},
   "source": [
    "####  Southern Hemisphere - Wind Speed (mph) vs. Latitude Linear Regression"
   ]
  },
  {
   "cell_type": "code",
   "execution_count": null,
   "metadata": {},
   "outputs": [],
   "source": [
    "x_values=southern_hemisphere['Lat']\n",
    "y_values = southern_hemisphere['Wind Speed']\n",
    "\n",
    "plt.scatter(x_values,y_values)\n",
    "\n",
    "plt.ylabel('Wind Speed')\n",
    "plt.xlabel('Latitude')\n",
    "plt.show()\n",
    "# Perform a linear regression on temperature vs. latitude\n",
    "(slope, intercept, rvalue, pvalue, stderr) = stats.linregress(x_values, y_values)\n",
    "\n",
    "# Get regression values\n",
    "regress_values = x_values * slope + intercept"
   ]
  },
  {
   "cell_type": "code",
   "execution_count": null,
   "metadata": {},
   "outputs": [],
   "source": [
    "# Create line equation string\n",
    "line_eq = \"y = \" + str(round(slope,2)) + \"x +\" + str(round(intercept,2))\n",
    "print(line_eq)"
   ]
  },
  {
   "cell_type": "code",
   "execution_count": null,
   "metadata": {},
   "outputs": [],
   "source": [
    "# Create Plot\n",
    "plt.scatter(x_values,y_values)\n",
    "plt.plot(x_values,regress_values,\"r-\")\n",
    "\n",
    "# Label plot and annotate the line equation\n",
    "plt.xlabel('Latitude')\n",
    "plt.ylabel('Wind Speed')\n",
    "plt.title(\"Southern Hemisphere - Wind Speed (mph) vs. Latitude Linear Regression\")\n",
    "plt.annotate(line_eq,(-40,5),fontsize=15,color=\"red\")\n",
    "plt.savefig('fig12.png')\n",
    "\n",
    "correlation = st.pearsonr(x_values,y_values)\n",
    "print(f\"The correlation between both factors is {round(correlation[0],2)}\")\n",
    "# Print r value\n",
    "print(f\"The r2value is: {rvalue**2}\")\n",
    "# Show plot\n",
    "plt.show()\n",
    "\n"
   ]
  },
  {
   "cell_type": "markdown",
   "metadata": {},
   "source": [
    "It has been inferred that in Southern Hemisphere  there is a weak positive correlation for  Windspeed vs. Latitude. \n",
    "There is Little to no variance identified according to the r2value.\n",
    "\n",
    "The finding from the analysis of the relationship between wind speed (mph), and latitude showed that the lower wind speed when the cities closer to the equater (latitude 0), and somehow the wind speed increase for the cities farther from the equator."
   ]
  }
 ],
 "metadata": {
  "anaconda-cloud": {},
  "kernel_info": {
   "name": "python3"
  },
  "kernelspec": {
   "display_name": "Python 3 (ipykernel)",
   "language": "python",
   "name": "python3"
  },
  "language_info": {
   "codemirror_mode": {
    "name": "ipython",
    "version": 3
   },
   "file_extension": ".py",
   "mimetype": "text/x-python",
   "name": "python",
   "nbconvert_exporter": "python",
   "pygments_lexer": "ipython3",
   "version": "3.9.12"
  },
  "latex_envs": {
   "LaTeX_envs_menu_present": true,
   "autoclose": false,
   "autocomplete": true,
   "bibliofile": "biblio.bib",
   "cite_by": "apalike",
   "current_citInitial": 1,
   "eqLabelWithNumbers": true,
   "eqNumInitial": 1,
   "hotkeys": {
    "equation": "Ctrl-E",
    "itemize": "Ctrl-I"
   },
   "labels_anchors": false,
   "latex_user_defs": false,
   "report_style_numbering": false,
   "user_envs_cfg": false
  },
  "nteract": {
   "version": "0.12.3"
  },
  "vscode": {
   "interpreter": {
    "hash": "3bd67e95d147c8d4e09479565d631de768d58872a76629693bf4f44d9b3a7dc1"
   }
  }
 },
 "nbformat": 4,
 "nbformat_minor": 2
}
